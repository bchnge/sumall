{
 "metadata": {
  "name": ""
 },
 "nbformat": 3,
 "nbformat_minor": 0,
 "worksheets": [
  {
   "cells": [
    {
     "cell_type": "code",
     "collapsed": false,
     "input": [
      "f_test_names = '../data/test_names.csv'\n",
      "f_train_names = '../data/train_names.csv'"
     ],
     "language": "python",
     "metadata": {},
     "outputs": [],
     "prompt_number": 1
    },
    {
     "cell_type": "code",
     "collapsed": false,
     "input": [
      "import pandas as pd"
     ],
     "language": "python",
     "metadata": {},
     "outputs": [],
     "prompt_number": 2
    },
    {
     "cell_type": "code",
     "collapsed": false,
     "input": [
      "df_test_names = pd.read_csv(f_test_names)\n",
      "print len(df_test_names)\n",
      "print df_test_names.columns\n",
      "df_train_names = pd.read_csv(f_train_names)\n",
      "print len(df_train_names)\n",
      "print df_train_names.columns"
     ],
     "language": "python",
     "metadata": {},
     "outputs": [
      {
       "output_type": "stream",
       "stream": "stdout",
       "text": [
        "10000\n",
        "Index([u'Unnamed: 0', u'resp-lsn', u'resp-ftn', u'resp-mi'], dtype='object')\n",
        "1182534"
       ]
      },
      {
       "output_type": "stream",
       "stream": "stdout",
       "text": [
        "\n",
        "Index([u'Unnamed: 0', u'resp-lsn', u'resp-ftn', u'resp-mi', u'resp-strt-no', u'resp-strt', u'resp-apn', u'resp-state'], dtype='object')\n"
       ]
      }
     ],
     "prompt_number": 363
    },
    {
     "cell_type": "code",
     "collapsed": false,
     "input": [
      "# Left join will ensure that we are only looking at names that appear in the test data set, serving as a filter on the training data\n",
      "# However, we will retain all multiple instances of each name in the training dataset pertaining to different addresses\n",
      "\n",
      "# Exclude indices, merging only on full names\n",
      "df_names = pd.merge(df_test_names.ix[:, ['resp-lsn','resp-ftn','resp-mi']],\n",
      "                    df_train_names.ix[:, ['resp-lsn','resp-ftn','resp-mi','resp-strt-no','resp-strt','resp-apn','resp-state']],\n",
      "                    how = 'left',\n",
      "                    left_on = ['resp-lsn', 'resp-ftn', 'resp-mi'],\n",
      "                    right_on = ['resp-lsn', 'resp-ftn', 'resp-mi'])"
     ],
     "language": "python",
     "metadata": {},
     "outputs": [],
     "prompt_number": 364
    },
    {
     "cell_type": "code",
     "collapsed": false,
     "input": [
      "# This is way too much to geocode. Google API only allows 2500 per day. Bing API allows 10,000 altogether.\n",
      "# Must reduce the search area.\n",
      "print df_names.shape"
     ],
     "language": "python",
     "metadata": {},
     "outputs": [
      {
       "output_type": "stream",
       "stream": "stdout",
       "text": [
        "(79420, 7)\n"
       ]
      }
     ],
     "prompt_number": 368
    },
    {
     "cell_type": "code",
     "collapsed": false,
     "input": [
      "# Intiial de-duping step can get us part of the way there\n",
      "df_names = df_names.drop_duplicates()\n",
      "print df_names.shape"
     ],
     "language": "python",
     "metadata": {},
     "outputs": [
      {
       "output_type": "stream",
       "stream": "stdout",
       "text": [
        "(29307, 7)\n"
       ]
      }
     ],
     "prompt_number": 370
    },
    {
     "cell_type": "code",
     "collapsed": false,
     "input": [
      "# Second de-duping can be done after some cleaning of the street variable\n",
      "import re\n",
      "def clean_street(address):\n",
      "    result = address['resp-strt']\n",
      "    result = result.replace('STREET', 'ST')\n",
      "    result = result.replace('AVENUE', 'AVE')\n",
      "    result = result.replace('ROAD', 'RD')\n",
      "    result = result.replace('BOULEVARD', 'BLVD')\n",
      "    \n",
      "    \n",
      "    # REMOVE 'THs and 'RDs in street numbers\n",
      "    street_string = re.search(r'\\d+', result)\n",
      "    if street_string != None:\n",
      "        result = re.sub(r'\\d+(TH)',street_string.group(), result)  \n",
      "        result = re.sub(r'\\d+(RD)',street_string.group(), result)\n",
      "  \n",
      "    if result[len(result)-1] == '.':\n",
      "        result = result[:len(result)-1]\n",
      "    return result\n",
      "\n",
      "df_names['cleaned'] = df_names.apply(clean_street, axis = 1)"
     ],
     "language": "python",
     "metadata": {},
     "outputs": [],
     "prompt_number": 402
    },
    {
     "cell_type": "code",
     "collapsed": false,
     "input": [
      "# De-duping based on full-names and street number/name. \n",
      "# Ignore apt no because not be helpful in differentiating distances\n",
      "df_cleaned = df_names.drop_duplicates(cols = ['resp-lsn','resp-ftn','resp-mi','resp-strt-no','cleaned'])\n",
      "print len(df_cleaned)"
     ],
     "language": "python",
     "metadata": {},
     "outputs": [
      {
       "output_type": "stream",
       "stream": "stdout",
       "text": [
        "23817\n"
       ]
      }
     ],
     "prompt_number": 404
    },
    {
     "cell_type": "code",
     "collapsed": false,
     "input": [
      "# To consider all possible candidates, we will assume that those with missing state data is also in NY\n",
      "print df_names['resp-state'].value_counts()\n",
      "print df_names['resp-state'].unique()"
     ],
     "language": "python",
     "metadata": {},
     "outputs": [
      {
       "output_type": "stream",
       "stream": "stdout",
       "text": [
        "NY    29211\n",
        "dtype: int64\n",
        "['NY' nan]\n"
       ]
      }
     ],
     "prompt_number": 792
    },
    {
     "cell_type": "code",
     "collapsed": false,
     "input": [
      "# we're still far from where we want to be.\n",
      "# we can divide our search into two steps. \n",
      "# The first step is to identify streets that are close to HQ and narrow down the search area.\n",
      "# The second step is to perform a deeper search, incorporating street-no, to geocode unique addresses\n",
      "\n",
      "# First step:\n",
      "unique_streets = df_cleaned.cleaned.unique()\n",
      "print len(unique_streets)"
     ],
     "language": "python",
     "metadata": {},
     "outputs": [
      {
       "output_type": "stream",
       "stream": "stdout",
       "text": [
        "4382\n"
       ]
      }
     ],
     "prompt_number": 408
    },
    {
     "cell_type": "code",
     "collapsed": false,
     "input": [
      "# Not bad--less than 5000 unique streets. However, it's still more than what we can handle with given API constraints.\n",
      "# Consider a filtering step based on what we know about NYC and where HQ is located (lower Manhattan).\n",
      "# We know that sumall is located in centre street, near the bottom half of Manhattan. \n",
      "# It is safe to assume that any street above 14th street in Manhattan (or in any other borough for that matter) \n",
      "# is probably too far to be considered. "
     ],
     "language": "python",
     "metadata": {},
     "outputs": []
    },
    {
     "cell_type": "code",
     "collapsed": false,
     "input": [
      "def get_street_number(row):\n",
      "    street = row['cleaned']\n",
      "    street_type = street[len(street)-3:]\n",
      "    result = re.search(r'\\d+', street)\n",
      "    if result is not None and street_type == \" ST\":\n",
      "        result = int(result.group())\n",
      "    else:\n",
      "        result = None\n",
      "    return result\n",
      "\n",
      "df_cleaned['street_no'] = df_cleaned.apply(get_street_number, axis = 1)"
     ],
     "language": "python",
     "metadata": {},
     "outputs": [],
     "prompt_number": 409
    },
    {
     "cell_type": "code",
     "collapsed": false,
     "input": [
      "# unused \n",
      "def get_ave_number(row):\n",
      "    street = row['cleaned']\n",
      "    street_type = street[len(street)-4:]\n",
      "#    print street_type\n",
      "    result = re.search(r'\\d+', street)\n",
      "    if result is not None and street_type == \" AVE\":\n",
      "        result = int(result.group())\n",
      "    else:\n",
      "        result = None\n",
      "    return result\n",
      "\n",
      "df_cleaned['ave_no'] = df_cleaned.apply(get_ave_number, axis = 1)"
     ],
     "language": "python",
     "metadata": {},
     "outputs": [],
     "prompt_number": 411
    },
    {
     "cell_type": "code",
     "collapsed": false,
     "input": [
      "# Now, we focus on addresses where the street is either non-numeric or less than 14, since Centre St is in the lower portion of Manhattan\n",
      "close_by = df_cleaned[(df_cleaned['street_no'] < 14) | (pd.isnull(df_cleaned['street_no']))]\n",
      "close_streets = close_by.cleaned.unique()"
     ],
     "language": "python",
     "metadata": {},
     "outputs": [],
     "prompt_number": 482
    },
    {
     "cell_type": "code",
     "collapsed": false,
     "input": [
      "print len(close_streets)"
     ],
     "language": "python",
     "metadata": {},
     "outputs": [
      {
       "output_type": "stream",
       "stream": "stdout",
       "text": [
        "3119\n"
       ]
      }
     ],
     "prompt_number": 877
    },
    {
     "cell_type": "code",
     "collapsed": false,
     "input": [
      "# Now that we've reduced the number of unique streets to ~3000 addresses to geocode, we begin geocoding and record query results in a dictionary\n",
      "d = dict(keys = close_streets)"
     ],
     "language": "python",
     "metadata": {},
     "outputs": [],
     "prompt_number": 520
    },
    {
     "cell_type": "code",
     "collapsed": false,
     "input": [
      "import csv\n",
      "# if ending session, save dictionary items to avoid having to re-geocode and waste API requests\n",
      "writer = csv.writer(open('dict_2.csv', 'wb'))\n",
      "for key, value in d.items():\n",
      "   writer.writerow([key, value])"
     ],
     "language": "python",
     "metadata": {},
     "outputs": [],
     "prompt_number": 563
    },
    {
     "cell_type": "code",
     "collapsed": false,
     "input": [
      "# block of code for reading dictionary in another session if needed\n",
      "reader = csv.reader(open('dict_2.csv', 'rb'))\n",
      "mydict = dict(x for x in reader)"
     ],
     "language": "python",
     "metadata": {},
     "outputs": [],
     "prompt_number": 876
    },
    {
     "cell_type": "code",
     "collapsed": false,
     "input": [
      "# Load in API key for Bing\n",
      "with open('../bing_api', 'r') as f:\n",
      "    bing_api_key = f.read()"
     ],
     "language": "python",
     "metadata": {},
     "outputs": [],
     "prompt_number": 875
    },
    {
     "cell_type": "code",
     "collapsed": false,
     "input": [
      "# Load geocoders\n",
      "import geopy\n",
      "g = geopy.geocoders.GoogleV3()\n",
      "g_bing = geopy.geocoders.Bing(api_key = bing_api_key)"
     ],
     "language": "python",
     "metadata": {},
     "outputs": [],
     "prompt_number": 797
    },
    {
     "cell_type": "code",
     "collapsed": false,
     "input": [
      "# Geocode candidates of \"close\" streets using Bing's API services\n",
      "\n",
      "import time\n",
      "for address in close_streets:\n",
      "    # if we do not yet have a lat_lng for 'address'\n",
      "    if d.get(address) is None: \n",
      "        time.sleep(0.5)\n",
      "        query = address + \" IN NEW YORK, NY\" # force the assumption that the street is i Manhattan, NY\n",
      "        try:\n",
      "            p, (lat,lng) = g_bing.geocode(query)    \n",
      "            d[address] = (lat,lng)\n",
      "        except:\n",
      "            # Upon inspection, most appear to be either too general or known not to be in Manhattan\n",
      "            print \"Oops. Can't geolocate \" + address"
     ],
     "language": "python",
     "metadata": {},
     "outputs": [
      {
       "output_type": "stream",
       "stream": "stdout",
       "text": [
        "Oops. Can't geolocate FAILE ST AKA\n",
        "Oops. Can't geolocate AVE OF ST. JOHN"
       ]
      },
      {
       "output_type": "stream",
       "stream": "stdout",
       "text": [
        "\n",
        "Oops. Can't geolocate AVE OF ST JOHN"
       ]
      },
      {
       "output_type": "stream",
       "stream": "stdout",
       "text": [
        "\n",
        "Oops. Can't geolocate HAVEN PLAZA GARAGE"
       ]
      },
      {
       "output_type": "stream",
       "stream": "stdout",
       "text": [
        "\n",
        "Oops. Can't geolocate IN ERROR"
       ]
      },
      {
       "output_type": "stream",
       "stream": "stdout",
       "text": [
        "\n",
        "Oops. Can't geolocate POWELL AVE"
       ]
      },
      {
       "output_type": "stream",
       "stream": "stdout",
       "text": [
        "\n",
        "Oops. Can't geolocate ELTON PLACE, GROUND FLOOR"
       ]
      },
      {
       "output_type": "stream",
       "stream": "stdout",
       "text": [
        "\n",
        "Oops. Can't geolocate NOSTRAND AVE. REALTY OFFC"
       ]
      },
      {
       "output_type": "stream",
       "stream": "stdout",
       "text": [
        "\n",
        "Oops. Can't geolocate BRDWAY-BUILDING E"
       ]
      },
      {
       "output_type": "stream",
       "stream": "stdout",
       "text": [
        "\n",
        "Oops. Can't geolocate FORD ST  WING A"
       ]
      },
      {
       "output_type": "stream",
       "stream": "stdout",
       "text": [
        "\n",
        "Oops. Can't geolocate BRDWAY-BUILDING D"
       ]
      },
      {
       "output_type": "stream",
       "stream": "stdout",
       "text": [
        "\n",
        "Oops. Can't geolocate BRDWAY - BUILDING E"
       ]
      },
      {
       "output_type": "stream",
       "stream": "stdout",
       "text": [
        "\n",
        "Oops. Can't geolocate MACOMBS RD AKA"
       ]
      },
      {
       "output_type": "stream",
       "stream": "stdout",
       "text": [
        "\n",
        "Oops. Can't geolocate NORTH OXFORD WALK"
       ]
      },
      {
       "output_type": "stream",
       "stream": "stdout",
       "text": [
        "\n",
        "Oops. Can't geolocate TIMPSON PLACE"
       ]
      },
      {
       "output_type": "stream",
       "stream": "stdout",
       "text": [
        "\n",
        "Oops. Can't geolocate ST, JOHNS PLACE"
       ]
      },
      {
       "output_type": "stream",
       "stream": "stdout",
       "text": [
        "\n",
        "Oops. Can't geolocate 438 KINGSTON AVE"
       ]
      },
      {
       "output_type": "stream",
       "stream": "stdout",
       "text": [
        "\n",
        "Oops. Can't geolocate 659"
       ]
      },
      {
       "output_type": "stream",
       "stream": "stdout",
       "text": [
        "\n",
        "Oops. Can't geolocate ELGAR PLACE"
       ]
      },
      {
       "output_type": "stream",
       "stream": "stdout",
       "text": [
        "\n",
        "Oops. Can't geolocate WASHINGTON WALK"
       ]
      },
      {
       "output_type": "stream",
       "stream": "stdout",
       "text": [
        "\n",
        "Oops. Can't geolocate WELLING COURT"
       ]
      },
      {
       "output_type": "stream",
       "stream": "stdout",
       "text": [
        "\n",
        "Oops. Can't geolocate NYC TERMINAL MARKET"
       ]
      },
      {
       "output_type": "stream",
       "stream": "stdout",
       "text": [
        "\n",
        "Oops. Can't geolocate AVE ST. JOHN AKA"
       ]
      },
      {
       "output_type": "stream",
       "stream": "stdout",
       "text": [
        "\n",
        "Oops. Can't geolocate AVE ST. JOHN"
       ]
      },
      {
       "output_type": "stream",
       "stream": "stdout",
       "text": [
        "\n",
        "Oops. Can't geolocate AVE ST. JOHN A/K/A"
       ]
      },
      {
       "output_type": "stream",
       "stream": "stdout",
       "text": [
        "\n",
        "Oops. Can't geolocate SOUTHERN BUILDING CORP"
       ]
      },
      {
       "output_type": "stream",
       "stream": "stdout",
       "text": [
        "\n",
        "Oops. Can't geolocate BRDWAY___LAW DEPT"
       ]
      },
      {
       "output_type": "stream",
       "stream": "stdout",
       "text": [
        "\n",
        "Oops. Can't geolocate BRDWAY/LAW DEPARTMENT"
       ]
      },
      {
       "output_type": "stream",
       "stream": "stdout",
       "text": [
        "\n",
        "Oops. Can't geolocate BRDWAY -LAW DEPARTMENT"
       ]
      },
      {
       "output_type": "stream",
       "stream": "stdout",
       "text": [
        "\n",
        "Oops. Can't geolocate BRDWAY-LAW DEPARTMENT"
       ]
      },
      {
       "output_type": "stream",
       "stream": "stdout",
       "text": [
        "\n",
        "Oops. Can't geolocate BRDWAY LAW DEPARTMENT"
       ]
      },
      {
       "output_type": "stream",
       "stream": "stdout",
       "text": [
        "\n",
        "Oops. Can't geolocate E. 34 AKA ST AKA"
       ]
      },
      {
       "output_type": "stream",
       "stream": "stdout",
       "text": [
        "\n",
        "Oops. Can't geolocate BRDWAY-BUILDING B"
       ]
      },
      {
       "output_type": "stream",
       "stream": "stdout",
       "text": [
        "\n",
        "Oops. Can't geolocate BRDWAY - BUILDING B"
       ]
      },
      {
       "output_type": "stream",
       "stream": "stdout",
       "text": [
        "\n",
        "Oops. Can't geolocate 4 ST"
       ]
      },
      {
       "output_type": "stream",
       "stream": "stdout",
       "text": [
        "\n",
        "Oops. Can't geolocate 99999999"
       ]
      },
      {
       "output_type": "stream",
       "stream": "stdout",
       "text": [
        "\n",
        "Oops. Can't geolocate 999999999"
       ]
      },
      {
       "output_type": "stream",
       "stream": "stdout",
       "text": [
        "\n",
        "Oops. Can't geolocate 9999999999"
       ]
      },
      {
       "output_type": "stream",
       "stream": "stdout",
       "text": [
        "\n",
        "Oops. Can't geolocate 999999999999999"
       ]
      },
      {
       "output_type": "stream",
       "stream": "stdout",
       "text": [
        "\n",
        "Oops. Can't geolocate 9999999999999"
       ]
      },
      {
       "output_type": "stream",
       "stream": "stdout",
       "text": [
        "\n",
        "Oops. Can't geolocate 99999999999999"
       ]
      },
      {
       "output_type": "stream",
       "stream": "stdout",
       "text": [
        "\n",
        "Oops. Can't geolocate 9999999999999999"
       ]
      },
      {
       "output_type": "stream",
       "stream": "stdout",
       "text": [
        "\n",
        "Oops. Can't geolocate 99999999999999999"
       ]
      },
      {
       "output_type": "stream",
       "stream": "stdout",
       "text": [
        "\n",
        "Oops. Can't geolocate 999999999999999999999"
       ]
      },
      {
       "output_type": "stream",
       "stream": "stdout",
       "text": [
        "\n",
        "Oops. Can't geolocate 9999999999999999999"
       ]
      },
      {
       "output_type": "stream",
       "stream": "stdout",
       "text": [
        "\n",
        "Oops. Can't geolocate 0000000"
       ]
      },
      {
       "output_type": "stream",
       "stream": "stdout",
       "text": [
        "\n",
        "Oops. Can't geolocate 999999999999999999"
       ]
      },
      {
       "output_type": "stream",
       "stream": "stdout",
       "text": [
        "\n",
        "Oops. Can't geolocate 99999999999999999999"
       ]
      },
      {
       "output_type": "stream",
       "stream": "stdout",
       "text": [
        "\n",
        "Oops. Can't geolocate 999999999999"
       ]
      },
      {
       "output_type": "stream",
       "stream": "stdout",
       "text": [
        "\n",
        "Oops. Can't geolocate 000"
       ]
      },
      {
       "output_type": "stream",
       "stream": "stdout",
       "text": [
        "\n",
        "Oops. Can't geolocate 00"
       ]
      },
      {
       "output_type": "stream",
       "stream": "stdout",
       "text": [
        "\n",
        "Oops. Can't geolocate 000000"
       ]
      },
      {
       "output_type": "stream",
       "stream": "stdout",
       "text": [
        "\n",
        "Oops. Can't geolocate 0"
       ]
      },
      {
       "output_type": "stream",
       "stream": "stdout",
       "text": [
        "\n",
        "Oops. Can't geolocate ALBANY CRESCENT"
       ]
      },
      {
       "output_type": "stream",
       "stream": "stdout",
       "text": [
        "\n",
        "Oops. Can't geolocate WOODLAND AVE"
       ]
      },
      {
       "output_type": "stream",
       "stream": "stdout",
       "text": [
        "\n",
        "Oops. Can't geolocate AND 3491 BRDWAY"
       ]
      },
      {
       "output_type": "stream",
       "stream": "stdout",
       "text": [
        "\n",
        "Oops. Can't geolocate RIVERDALE MANOR"
       ]
      },
      {
       "output_type": "stream",
       "stream": "stdout",
       "text": [
        "\n",
        "Oops. Can't geolocate AVE ST JOHN"
       ]
      },
      {
       "output_type": "stream",
       "stream": "stdout",
       "text": [
        "\n",
        "Oops. Can't geolocate HARPER COURT"
       ]
      },
      {
       "output_type": "stream",
       "stream": "stdout",
       "text": [
        "\n",
        "Oops. Can't geolocate 67 DRIVE"
       ]
      },
      {
       "output_type": "stream",
       "stream": "stdout",
       "text": [
        "\n",
        "Oops. Can't geolocate EAST GUNHILL RD SECOND"
       ]
      },
      {
       "output_type": "stream",
       "stream": "stdout",
       "text": [
        "\n",
        "Oops. Can't geolocate MOUNT HOPE PL"
       ]
      },
      {
       "output_type": "stream",
       "stream": "stdout",
       "text": [
        "\n",
        "Oops. Can't geolocate BRDWAY - BUILDING D"
       ]
      },
      {
       "output_type": "stream",
       "stream": "stdout",
       "text": [
        "\n",
        "Oops. Can't geolocate GRAND CONCOURSE,STORE D"
       ]
      },
      {
       "output_type": "stream",
       "stream": "stdout",
       "text": [
        "\n",
        "Oops. Can't geolocate 111111111111"
       ]
      },
      {
       "output_type": "stream",
       "stream": "stdout",
       "text": [
        "\n",
        "Oops. Can't geolocate TYPED IN ERROR"
       ]
      },
      {
       "output_type": "stream",
       "stream": "stdout",
       "text": [
        "\n",
        "Oops. Can't geolocate WEST 231ST ST BASEMNT"
       ]
      },
      {
       "output_type": "stream",
       "stream": "stdout",
       "text": [
        "\n",
        "Oops. Can't geolocate BRDWAY-LAW DEPT"
       ]
      },
      {
       "output_type": "stream",
       "stream": "stdout",
       "text": [
        "\n",
        "Oops. Can't geolocate FORD ST WING A"
       ]
      },
      {
       "output_type": "stream",
       "stream": "stdout",
       "text": [
        "\n",
        "Oops. Can't geolocate LENOX AVE AKA 650 LENOX A"
       ]
      },
      {
       "output_type": "stream",
       "stream": "stdout",
       "text": [
        "\n",
        "Oops. Can't geolocate MAPLE AVE"
       ]
      },
      {
       "output_type": "stream",
       "stream": "stdout",
       "text": [
        "\n",
        "Oops. Can't geolocate PENNSYLVNIA AVE"
       ]
      },
      {
       "output_type": "stream",
       "stream": "stdout",
       "text": [
        "\n",
        "Oops. Can't geolocate GRAND CONCOUSE"
       ]
      },
      {
       "output_type": "stream",
       "stream": "stdout",
       "text": [
        "\n",
        "Oops. Can't geolocate A/K/A 6-89 ONDERDONK AVE"
       ]
      },
      {
       "output_type": "stream",
       "stream": "stdout",
       "text": [
        "\n",
        "Oops. Can't geolocate BRDWAY-BUILDING C"
       ]
      },
      {
       "output_type": "stream",
       "stream": "stdout",
       "text": [
        "\n",
        "Oops. Can't geolocate BRDWAY - BUILDING C"
       ]
      },
      {
       "output_type": "stream",
       "stream": "stdout",
       "text": [
        "\n",
        "Oops. Can't geolocate BOUCK AVE"
       ]
      },
      {
       "output_type": "stream",
       "stream": "stdout",
       "text": [
        "\n",
        "Oops. Can't geolocate 147"
       ]
      },
      {
       "output_type": "stream",
       "stream": "stdout",
       "text": [
        "\n",
        "Oops. Can't geolocate LINDEN BLVD.,"
       ]
      },
      {
       "output_type": "stream",
       "stream": "stdout",
       "text": [
        "\n",
        "Oops. Can't geolocate BOX 30128"
       ]
      },
      {
       "output_type": "stream",
       "stream": "stdout",
       "text": [
        "\n",
        "Oops. Can't geolocate AVE A-REAR"
       ]
      },
      {
       "output_type": "stream",
       "stream": "stdout",
       "text": [
        "\n",
        "Oops. Can't geolocate VAN WYCK EXP"
       ]
      },
      {
       "output_type": "stream",
       "stream": "stdout",
       "text": [
        "\n",
        "Oops. Can't geolocate ADAM CLAYTON POWELL JR BL"
       ]
      },
      {
       "output_type": "stream",
       "stream": "stdout",
       "text": [
        "\n",
        "Oops. Can't geolocate FORD ST  WING D"
       ]
      },
      {
       "output_type": "stream",
       "stream": "stdout",
       "text": [
        "\n",
        "Oops. Can't geolocate FORD ST WING D"
       ]
      },
      {
       "output_type": "stream",
       "stream": "stdout",
       "text": [
        "\n",
        "Oops. Can't geolocate AVE ST. JOHNS"
       ]
      },
      {
       "output_type": "stream",
       "stream": "stdout",
       "text": [
        "\n",
        "Oops. Can't geolocate EAST 164 ST A/K/A"
       ]
      },
      {
       "output_type": "stream",
       "stream": "stdout",
       "text": [
        "\n",
        "Oops. Can't geolocate AVE OF ST. JOHNS"
       ]
      },
      {
       "output_type": "stream",
       "stream": "stdout",
       "text": [
        "\n",
        "Oops. Can't geolocate 1047 AVE ST JOHN"
       ]
      },
      {
       "output_type": "stream",
       "stream": "stdout",
       "text": [
        "\n",
        "Oops. Can't geolocate 1047 AVE ST. JOHN"
       ]
      },
      {
       "output_type": "stream",
       "stream": "stdout",
       "text": [
        "\n",
        "Oops. Can't geolocate 205 FL"
       ]
      },
      {
       "output_type": "stream",
       "stream": "stdout",
       "text": [
        "\n",
        "Oops. Can't geolocate EAST 117 ST A/K/A 1"
       ]
      },
      {
       "output_type": "stream",
       "stream": "stdout",
       "text": [
        "\n",
        "Oops. Can't geolocate 14"
       ]
      },
      {
       "output_type": "stream",
       "stream": "stdout",
       "text": [
        "\n",
        "Oops. Can't geolocate PINK HOUSES"
       ]
      },
      {
       "output_type": "stream",
       "stream": "stdout",
       "text": [
        "\n",
        "Oops. Can't geolocate DR MARTIN LUTHER KING BLV"
       ]
      },
      {
       "output_type": "stream",
       "stream": "stdout",
       "text": [
        "\n",
        "Oops. Can't geolocate LITTLE NECK PARKWAY"
       ]
      },
      {
       "output_type": "stream",
       "stream": "stdout",
       "text": [
        "\n",
        "Oops. Can't geolocate 126 AVE"
       ]
      },
      {
       "output_type": "stream",
       "stream": "stdout",
       "text": [
        "\n",
        "Oops. Can't geolocate WASWORTH AVE"
       ]
      },
      {
       "output_type": "stream",
       "stream": "stdout",
       "text": [
        "\n",
        "Oops. Can't geolocate DR MARTIN LUTHER KING JR"
       ]
      },
      {
       "output_type": "stream",
       "stream": "stdout",
       "text": [
        "\n",
        "Oops. Can't geolocate DR. MARTIN LUTHER KING JR"
       ]
      },
      {
       "output_type": "stream",
       "stream": "stdout",
       "text": [
        "\n",
        "Oops. Can't geolocate PARK AVE, MGMT OFFICE"
       ]
      },
      {
       "output_type": "stream",
       "stream": "stdout",
       "text": [
        "\n",
        "Oops. Can't geolocate BOX 1343"
       ]
      },
      {
       "output_type": "stream",
       "stream": "stdout",
       "text": [
        "\n",
        "Oops. Can't geolocate CENTRAL PARK BLDG 8"
       ]
      },
      {
       "output_type": "stream",
       "stream": "stdout",
       "text": [
        "\n",
        "Oops. Can't geolocate 160"
       ]
      },
      {
       "output_type": "stream",
       "stream": "stdout",
       "text": [
        "\n",
        "Oops. Can't geolocate 64"
       ]
      },
      {
       "output_type": "stream",
       "stream": "stdout",
       "text": [
        "\n",
        "Oops. Can't geolocate MIDWOOD ST AKA/"
       ]
      },
      {
       "output_type": "stream",
       "stream": "stdout",
       "text": [
        "\n",
        "Oops. Can't geolocate 1037 AVE ST. JOHN"
       ]
      },
      {
       "output_type": "stream",
       "stream": "stdout",
       "text": [
        "\n",
        "Oops. Can't geolocate BURKE AVE, AKA 831-839"
       ]
      },
      {
       "output_type": "stream",
       "stream": "stdout",
       "text": [
        "\n",
        "Oops. Can't geolocate LINDEN BLVD A/K/A"
       ]
      },
      {
       "output_type": "stream",
       "stream": "stdout",
       "text": [
        "\n",
        "Oops. Can't geolocate ALDUS ST AKA"
       ]
      },
      {
       "output_type": "stream",
       "stream": "stdout",
       "text": [
        "\n",
        "Oops. Can't geolocate FORD ST WING C"
       ]
      },
      {
       "output_type": "stream",
       "stream": "stdout",
       "text": [
        "\n"
       ]
      }
     ],
     "prompt_number": 557
    },
    {
     "cell_type": "code",
     "collapsed": false,
     "input": [
      "len(d.keys())"
     ],
     "language": "python",
     "metadata": {},
     "outputs": [
      {
       "metadata": {},
       "output_type": "pyout",
       "prompt_number": 562,
       "text": [
        "3009"
       ]
      }
     ],
     "prompt_number": 562
    },
    {
     "cell_type": "code",
     "collapsed": false,
     "input": [
      "# Get HQ's lat-long \n",
      "sumall_headquarters = '247 Centre Street in NY'\n",
      "p, sum_lat_lng = g_bing.geocode(sumall_headquarters)"
     ],
     "language": "python",
     "metadata": {},
     "outputs": [],
     "prompt_number": 786
    },
    {
     "cell_type": "code",
     "collapsed": false,
     "input": [
      "# Function to alculate distance (in miles) between two addresses based on lat-long\n",
      "from geopy.distance import vincenty\n",
      "def get_distance_from_target(from_latlng, to_latlng):\n",
      "    ''' get distance in miles between two points using vincenty measure. Takes two tuples of (lat_lng)'''\n",
      "    return vincenty(from_latlng, to_latlng).miles"
     ],
     "language": "python",
     "metadata": {},
     "outputs": [],
     "prompt_number": 551
    },
    {
     "cell_type": "code",
     "collapsed": false,
     "input": [
      "# Now based on recorded lat_lng values, calculate the Vincy distances between each street and HQ\n",
      "distances = []\n",
      "for item in d.keys():\n",
      "    lat_lng = d[item]\n",
      "    try:\n",
      "        lat_lng_distance = get_distance_from_target(lat_lng, sum_lat_lng)\n",
      "        distances.append(lat_lng_distance)\n",
      "    except:\n",
      "        print item\n",
      "        print lat_lng\n",
      "        \n",
      "# Get the top 100 closest streets\n",
      "distances.sort(reverse = False)\n",
      "top100distances = distances[0:99]"
     ],
     "language": "python",
     "metadata": {},
     "outputs": [
      {
       "output_type": "stream",
       "stream": "stdout",
       "text": [
        "keys\n",
        "['VALENTINE AVE' 'SECOND AVE' 'LINCOLN AVE' ..., 'SO. BLVD' 'COLONIAL RD'\n",
        " 'FORT GEORGE HILL']\n"
       ]
      }
     ],
     "prompt_number": 799
    },
    {
     "cell_type": "code",
     "collapsed": false,
     "input": [
      "# Create a dictionary of distances using previous dictionary of lat-long values\n",
      "d2 = dict()\n",
      "for item in d:\n",
      "    try:\n",
      "        d2[item] = get_distance_from_target(d[item], sum_lat_lng)\n",
      "    except:\n",
      "        print d.get(item)"
     ],
     "language": "python",
     "metadata": {},
     "outputs": [
      {
       "output_type": "stream",
       "stream": "stdout",
       "text": [
        "['VALENTINE AVE' 'SECOND AVE' 'LINCOLN AVE' ..., 'SO. BLVD' 'COLONIAL RD'\n",
        " 'FORT GEORGE HILL']\n"
       ]
      }
     ],
     "prompt_number": 800
    },
    {
     "cell_type": "code",
     "collapsed": false,
     "input": [
      "# Find names of streets that are within the top 100 closest distances\n",
      "top_streets = []\n",
      "for k, v in d2.iteritems():\n",
      "    if v in top100distances:\n",
      "        top_streets.append(k)\n",
      "        \n",
      "top_streets[0:10]"
     ],
     "language": "python",
     "metadata": {},
     "outputs": [
      {
       "metadata": {},
       "output_type": "pyout",
       "prompt_number": 874,
       "text": [
        "['BEACH ST',\n",
        " 'YORK  ST',\n",
        " 'BLEECKER ST',\n",
        " 'PARK PLACE',\n",
        " 'THOMPSON ST',\n",
        " 'ST. MARKS PL',\n",
        " 'ST. MARKS AVENAUE',\n",
        " 'WEST ST',\n",
        " 'NORFOLK ST',\n",
        " 'YORK ST']"
       ]
      }
     ],
     "prompt_number": 874
    },
    {
     "cell_type": "code",
     "collapsed": false,
     "input": [
      "df_top_streets = pd.DataFrame(top_streets, columns = ['top_streets'])"
     ],
     "language": "python",
     "metadata": {},
     "outputs": [],
     "prompt_number": 678
    },
    {
     "cell_type": "code",
     "collapsed": false,
     "input": [
      "# Select people who live in the closest streets\n",
      "names_top_streets = pd.merge(df_cleaned, df_top_streets, how = 'inner', left_on = 'cleaned', right_on = 'top_streets')\n",
      "names_top_streets = names_top_streets.ix[:,['resp-lsn','resp-ftn','resp-mi','resp-strt-no','resp-strt']].fillna('')"
     ],
     "language": "python",
     "metadata": {},
     "outputs": [],
     "prompt_number": 887
    },
    {
     "cell_type": "code",
     "collapsed": false,
     "input": [
      "# Obtain list of unique addresses among those who live in closest streets\n",
      "final_addresses = names_top_streets['resp-strt-no'] + ' ' + names_top_streets['resp-strt'] + ' IN NEW YORK, NY'\n",
      "final_addresses = final_addresses.unique()"
     ],
     "language": "python",
     "metadata": {},
     "outputs": [],
     "prompt_number": 888
    },
    {
     "cell_type": "code",
     "collapsed": false,
     "input": [
      "final_address_d"
     ],
     "language": "python",
     "metadata": {},
     "outputs": [
      {
       "metadata": {},
       "output_type": "pyout",
       "prompt_number": 885,
       "text": [
        "{'1 WEST STREET IN NEW YORK, NY': 1.4446956786731373,\n",
        " '10 CATHERINE SLIP IN NEW YORK, NY': 0.7127573355511423,\n",
        " '1020 PARK PLACE IN NEW YORK, NY': 4.346865621157402,\n",
        " '107 ST. MARKS PLACE IN NEW YORK, NY': 0.8967024838982035,\n",
        " '108 WEST HOUSTON STREET IN NEW YORK, NY': 0.5265612174586904,\n",
        " '111 WORTH STREET IN NEW YORK, NY': 0.40289680766622366,\n",
        " '113 SULLIVAN STREET IN NEW YORK, NY': 0.45422497162708786,\n",
        " '114 EAST 1ST STREET IN NEW YORK, NY': 0.6402306081935686,\n",
        " '115 ST MARKS PLACE IN NEW YORK, NY': 0.9085467616037867,\n",
        " '119 SULLIVAN STREET IN NEW YORK, NY': 0.4610017626092587,\n",
        " '1191 PARK PLACE IN NEW YORK, NY': 4.548280414036533,\n",
        " '1192 PARK PLACE IN NEW YORK, NY': 4.562581149653823,\n",
        " '120 ELIZABETH STREET IN NEW YORK, NY': 0.17206626506021588,\n",
        " '121 ESSEX STREET IN NEW YORK, NY': 0.5451299169137668,\n",
        " '122 ST. MARKS PLACE IN NEW YORK, NY': 0.8813857131259448,\n",
        " '125 WOOSTER STREET IN NEW YORK, NY': 0.36402776080374216,\n",
        " '125-12 7 EAST 118TH STREET IN NEW YORK, NY': 9.64315245051894,\n",
        " '1255 PARK PLACE IN NEW YORK, NY': 4.632579424794783,\n",
        " '131 BROOME STREET IN NEW YORK, NY': 0.7571943250658865,\n",
        " '131 JERSEY ST IN NEW YORK, NY': 7.0075882009723856,\n",
        " '132 BEACH ST IN NEW YORK, NY': 14.275251524901826,\n",
        " '135 ESSEX STREET IN NEW YORK, NY': 0.5684041540456961,\n",
        " '136 WEST 4TH STREET IN NEW YORK, NY': 0.7650257598104282,\n",
        " '137 EAST BROADWAY IN NEW YORK, NY': 0.5677258769987455,\n",
        " '137 RIVINGTON STREET IN NEW YORK, NY': 0.6229801127767902,\n",
        " '14 MOTT STREET IN NEW YORK, NY': 0.410188737676892,\n",
        " '14-16 ORCHARD STREET IN NEW YORK, NY': 0.48170989585076907,\n",
        " '1400 BENSON STREET IN NEW YORK, NY': 11.618315114544608,\n",
        " '143 LUDLOW STREET IN NEW YORK, NY': 0.5230945234487189,\n",
        " '144 BLEECKER STREET IN NEW YORK, NY': 0.5443556870802957,\n",
        " '1444 PARK PLACE IN NEW YORK, NY': 4.911948341847265,\n",
        " '149 CHURCH STREET IN NEW YORK, NY': 0.6416044066050867,\n",
        " '1492 PARK PLACE IN NEW YORK, NY': 4.976130290490901,\n",
        " '15 ESSEX STREET IN NEW YORK, NY': 0.5556054460822479,\n",
        " '15 ST. JAMES PLACE IN NEW YORK, NY': 0.6140127498533785,\n",
        " '1509 PARK PLACE IN NEW YORK, NY': 4.973823821485638,\n",
        " '151 AVENUE A IN NEW YORK, NY': 0.9673866382598222,\n",
        " '151 CANAL STREET IN NEW YORK, NY': 0.29141741334574756,\n",
        " '151 JERSEY ST IN NEW YORK, NY': 7.020662928041912,\n",
        " '151 MOTT STREET IN NEW YORK, NY': 0.11495929161033702,\n",
        " '151 RIDGE STREET IN NEW YORK, NY': 0.8124631692991353,\n",
        " '1517 PARK PLACE IN NEW YORK, NY': 4.993996253118577,\n",
        " '1539 PARK PLACE IN NEW YORK, NY': 5.011316185878957,\n",
        " '1544 PARK PLACE IN NEW YORK, NY': 5.045823792753992,\n",
        " '155 RIDGE STREET IN NEW YORK, NY': 0.8191904333231765,\n",
        " '155 WOOSTER STREET IN NEW YORK, NY': 0.43717172997993464,\n",
        " '159 FRANKLIN STREET IN NEW YORK, NY': 0.5291570536791498,\n",
        " '16 MONROE STREET IN NEW YORK, NY': 0.617281884119782,\n",
        " '160 BLEECKER STREET IN NEW YORK, NY': 0.5853910073955643,\n",
        " '1629 PARK PLACE IN NEW YORK, NY': 5.145988078172117,\n",
        " '163 BLEECKER STREET IN NEW YORK, NY': 0.6041369102214749,\n",
        " '163 CHRYSTIE STREET IN NEW YORK, NY': 0.2852277409294151,\n",
        " '163 LUDLOW STREET IN NEW YORK, NY': 0.5546582871460225,\n",
        " '1630 PARK PLACE IN NEW YORK, NY': 5.163208291959137,\n",
        " '165 ST MARKS PL IN NEW YORK, NY': 0.896423293986988,\n",
        " '165 ST. MARKS PL IN NEW YORK, NY': 0.896423293986988,\n",
        " '165 ST. MARKS PL. IN NEW YORK, NY': 0.896423293986988,\n",
        " '1655 MONROE AVNEUE IN NEW YORK, NY': 9.744031750848306,\n",
        " '166 ALLEN STREET IN NEW YORK, NY': 0.4858635174742798,\n",
        " '166 MONROE STREET IN NEW YORK, NY': 0.6538723179305188,\n",
        " '1686 PARK PLACE IN NEW YORK, NY': 5.246493005581644,\n",
        " '169 BLEECKER STREET IN NEW YORK, NY': 0.6137791940549386,\n",
        " '17-34 BLEECKER ST IN NEW YORK, NY': 4.657426767748999,\n",
        " '170 EAST 2ND STREET IN NEW YORK, NY': 0.7394023524578578,\n",
        " '170 RIVINGTON STREET IN NEW YORK, NY': 0.7219440873997949,\n",
        " '172 LUDLOW STREET IN NEW YORK, NY': 0.581777294313444,\n",
        " '1722 WEST 4TH STREET IN NEW YORK, NY': 7.977935316294857,\n",
        " '1729- 31 1ST AVENUE IN NEW YORK, NY': 9.64315245051894,\n",
        " '173 AVENUE A IN NEW YORK, NY': 1.0241173086674353,\n",
        " '173 ESSEX STREET IN NEW YORK, NY': 0.6192136220813456,\n",
        " '174 FORSYTH STREET IN NEW YORK, NY': 0.3972033247128331,\n",
        " '175 RIVINGTON STREET IN NEW YORK, NY': 0.7256146062412226,\n",
        " '176 MONROE ST IN NEW YORK, NY': 0.6540481437444294,\n",
        " '178 BOND STREET IN NEW YORK, NY': 9.149184008099295,\n",
        " '1780 WEST 3RD STREET IN NEW YORK, NY': 8.081133482310811,\n",
        " '1785 PARK PLACE IN NEW YORK, NY': 5.3702001800659565,\n",
        " '179 CATHERINE ST 1ST FL IN NEW YORK, NY': 9.628183091703441,\n",
        " '179 CATHERINE ST 2ND FL IN NEW YORK, NY': 9.628183091703441,\n",
        " '179 ESSEX STREET IN NEW YORK, NY': 0.622350107792448,\n",
        " '18 MONROE STREET IN NEW YORK, NY': 0.6178167782673197,\n",
        " '18 ST. MARKS PLACE IN NEW YORK, NY': 0.7729899622575929,\n",
        " '180 SOUTH STREET IN NEW YORK, NY': 0.8427894789969079,\n",
        " '181 E 2ND STREET IN NEW YORK, NY': 0.736980586355317,\n",
        " '181 EAST 2ND STREET IN NEW YORK, NY': 0.736980586355317,\n",
        " '181 PARK PLACE IN NEW YORK, NY': 0.794113490144871,\n",
        " '181 WAVERLY PLACE IN NEW YORK, NY': 0.9896779661730373,\n",
        " '182 SOUTH STREET IN NEW YORK, NY': 0.8360113132252751,\n",
        " '183 E 2ND STREET IN NEW YORK, NY': 0.7463109827067023,\n",
        " '185 ST MARKS PL IN NEW YORK, NY': 0.90652543814257,\n",
        " '185 ST. MARKS PL IN NEW YORK, NY': 0.90652543814257,\n",
        " '1854 PARK PLACE IN NEW YORK, NY': 5.462189988875215,\n",
        " '186 BOND STREET IN NEW YORK, NY': 9.149966975605622,\n",
        " '186 NORFOLK STREET IN NEW YORK, NY': 0.665707129247848,\n",
        " '189 ALLEN STREET IN NEW YORK, NY': 0.4904286078663061,\n",
        " '190 GREENE STREET IN NEW YORK, NY': 0.3989355511426839,\n",
        " '190 YORK STREET IN NEW YORK, NY': 1.5131252288496584,\n",
        " '196 ESSEX STREET IN NEW YORK, NY': 0.6381535124350853,\n",
        " '198 BOND STREET IN NEW YORK, NY': 9.151126152625388,\n",
        " '20 CATHERINE SLIP IN NEW YORK, NY': 0.7357745153235756,\n",
        " '200 VARICK STREET IN NEW YORK, NY': 0.6549622183599595,\n",
        " '201 SULLIVAN STREET IN NEW YORK, NY': 0.6176744999053324,\n",
        " '202 YORK STREET IN NEW YORK, NY': 1.5343633116037776,\n",
        " '205 MULBERRY STREET IN NEW YORK, NY': 0.14112575761355348,\n",
        " '206 VARICK STREET IN NEW YORK, NY': 0.6914988573156644,\n",
        " '2080 WEST STREET IN NEW YORK, NY': 8.585452239214442,\n",
        " '209 CLINTON AVNEUE IN NEW YORK, NY': 0.7308711667701072,\n",
        " '21 ST. JAMES PLACE IN NEW YORK, NY': 0.5953864866130355,\n",
        " '21 WEST STREET IN NEW YORK, NY': 1.4160565943993784,\n",
        " '210 RIVINGTON STREET IN NEW YORK, NY': 0.8279159219632668,\n",
        " '218 BOND STREET IN NEW YORK, NY': 2.636053264112493,\n",
        " '22 EAST FIRST STREET IN NEW YORK, NY': 0.4810769007368794,\n",
        " '220 FRANKLIN STREET IN NEW YORK, NY': 2.305703467556057,\n",
        " '221 AVENUE A IN NEW YORK, NY': 1.1512860272592158,\n",
        " '224 ELIZABETH STREET IN NEW YORK, NY': 0.292665993362028,\n",
        " '224 YORK  STREET IN NEW YORK, NY': 1.5476034160049035,\n",
        " '224 YORK STREET IN NEW YORK, NY': 1.5476034160049035,\n",
        " '227 BEACH STREET IN NEW YORK, NY': 14.349593852749077,\n",
        " '228 ELIZABETH STREET IN NEW YORK, NY': 0.3045460518517081,\n",
        " '229 CHRYSTIE STREET IN NEW YORK, NY': 0.3983776513302437,\n",
        " '2328 EAST 1ST STREET IN NEW YORK, NY': 8.967188136896516,\n",
        " '233 WEST 4TH STREET IN NEW YORK, NY': 1.0101416444102707,\n",
        " '235 EAST 2ND STREET IN NEW YORK, NY': 0.8449293300417856,\n",
        " '2358 EAST 2ND STREET IN NEW YORK, NY': 8.995796512900943,\n",
        " '237 NASSAU STREEET IN NEW YORK, NY': 2.9387813980044206,\n",
        " '237 NASSAU STREET IN NEW YORK, NY': 1.6978828210424441,\n",
        " '24-42 ERICSSON STREET IN NEW YORK, NY': 7.5357406818071055,\n",
        " '240 SULLIVAN STREET IN NEW YORK, NY': 0.6700693674153587,\n",
        " '247 BROOMW STREET IN NEW YORK, NY': 0.47129236359294696,\n",
        " '247 MONROE STREET IN NEW YORK, NY': 0.9024000434801778,\n",
        " '248 EAST 2ND STREET IN NEW YORK, NY': 0.8832637393848605,\n",
        " '248 EAST SECOND STREET IN NEW YORK, NY': 0.8832637393848605,\n",
        " '248 ELIZABETH STREET IN NEW YORK, NY': 0.3381717882614544,\n",
        " '248 MOTT STREET IN NEW YORK, NY': 0.28789981405234233,\n",
        " '249 JERSEY ST IN NEW YORK, NY': 7.126696284838516,\n",
        " '250 CLINTON STREET IN NEW YORK, NY': 0.8437873825129921,\n",
        " '250 MERCER STREET IN NEW YORK, NY': 0.5868616099197186,\n",
        " '250 MOTT STREET IN NEW YORK, NY': 0.29154092962180345,\n",
        " '257 CLINTON STREET IN NEW YORK, NY': 0.8704308618790054,\n",
        " '26 THOMPSON STREET IN NEW YORK, NY': 0.35412214903396466,\n",
        " '265 CHERRY STREET IN NEW YORK, NY': 0.7742740605894031,\n",
        " '27 WASHINGTON SQUARE NORTH IN NEW YORK, NY': 0.8423465392466276,\n",
        " '273 MONROE STREET IN NEW YORK, NY': 0.9105924467922625,\n",
        " '275 BROOME STREET IN NEW YORK, NY': 0.3851857766002875,\n",
        " '275 CHERRY STREET IN NEW YORK, NY': 0.7832557074612595,\n",
        " '280 EAST 2ND STREET IN NEW YORK, NY': 0.947987173435334,\n",
        " '282 CHERRY STREET IN NEW YORK, NY': 0.7927969452414492,\n",
        " '285 MOTT STREET IN NEW YORK, NY': 0.3445898082872257,\n",
        " '286 EAST 2ND STREET IN NEW YORK, NY': 0.9773713653278613,\n",
        " '286 SOUTH STREET IN NEW YORK, NY': 0.8999874668872383,\n",
        " '289 ESSEX STREET IN NEW YORK, NY': 6.780670114911069,\n",
        " '29 WARREN ST IN NEW YORK, NY': 0.6704177665108498,\n",
        " '29 WARREN ST. IN NEW YORK, NY': 0.6704177665108498,\n",
        " '29-31 RUTGERS STREET IN NEW YORK, NY': 0.5792365266976304,\n",
        " '290 JERSEY ST IN NEW YORK, NY': 7.174591230478374,\n",
        " '292 DELANCEY STREET IN NEW YORK, NY': 1.032050043126036,\n",
        " '297 JERSEY ST IN NEW YORK, NY': 7.184121594206707,\n",
        " '298 DELANCEY STREET IN NEW YORK, NY': 1.044336148327246,\n",
        " '30 CARMINE STREET IN NEW YORK, NY': 0.7209624249224094,\n",
        " '30 CHARLTON STREET IN NEW YORK, NY': 0.5631589788657403,\n",
        " '30 MONROE STREET IN NEW YORK, NY': 0.62163685983292,\n",
        " '300 CHERRY STREET IN NEW YORK, NY': 0.7645244196095721,\n",
        " '302 MOTT STREET IN NEW YORK, NY': 0.4014004716806451,\n",
        " '305 SPRING STREET IN NEW YORK, NY': 0.6711381580409153,\n",
        " '308 DELANCEY STREET IN NEW YORK, NY': 1.0812932852449821,\n",
        " '309 MOTT STREET IN NEW YORK, NY': 0.39450219265520486,\n",
        " '31 LEONARD STREET IN NEW YORK, NY': 0.4842346349722672,\n",
        " '31-33 MARKET ST IN NEW YORK, NY': 0.5783029385426013,\n",
        " '312 DELANCEY STREET IN NEW YORK, NY': 1.090627792568828,\n",
        " '318 BOND STREET IN NEW YORK, NY': 2.8159429697546927,\n",
        " '32 ST. MARKS PLACE IN NEW YORK, NY': 0.7798406221626023,\n",
        " '324 PARK PLACE IN NEW YORK, NY': 3.44950448186481,\n",
        " '337A WEST BROADWAY IN NEW YORK, NY': 0.3143965542521823,\n",
        " '34 DESBROSSES STREET IN NEW YORK, NY': 0.7086524884241224,\n",
        " '34 MONROE STREET IN NEW YORK, NY': 0.6232299018505549,\n",
        " '340 CHERRY STREET IN NEW YORK, NY': 0.8800681038418294,\n",
        " '35 MARKET STREET IN NEW YORK, NY': 0.5623967746400904,\n",
        " '362 BROOME STREET IN NEW YORK, NY': 0.14454733419514867,\n",
        " '363 JERSEY ST IN NEW YORK, NY': 7.271751096530842,\n",
        " '365 JERSEY ST IN NEW YORK, NY': 7.275814964080053,\n",
        " '37-06 WARREN  STREET IN NEW YORK, NY': 6.983115184975817,\n",
        " '37-39 CLINTON STREET IN NEW YORK, NY': 0.6732517997912565,\n",
        " '37-63 WARREN STREET IN NEW YORK, NY': 6.997654025410193,\n",
        " '373 MONROE STREET IN NEW YORK, NY': 3.722604051139395,\n",
        " '376A MONROE ST. IN NEW YORK, NY': 3.7175679138676334,\n",
        " '38 MONROE STREET IN NEW YORK, NY': 0.6249615378528712,\n",
        " '38 RUTGERS STREET IN NEW YORK, NY': 0.6713286267438074,\n",
        " '388 ESSEX STREET IN NEW YORK, NY': 6.865895266790097,\n",
        " '389 MONROE STREET IN NEW YORK, NY': 3.7435615917825724,\n",
        " '392 ESSEX STREET IN NEW YORK, NY': 6.870228725973829,\n",
        " '394 AVENUE OF THE AMERICAS IN NEW YORK, NY': 0.9169966553537278,\n",
        " '394 MONROE STREET IN NEW YORK, NY': 3.747487047880999,\n",
        " '398 WEST BROADWAY IN NEW YORK, NY': 0.35142020705797267,\n",
        " '4 RIVINGTON STREET IN NEW YORK, NY': 0.30196933349989,\n",
        " '40 HARRISON STREET IN NEW YORK, NY': 0.6593199497873662,\n",
        " '40 SOUTH ST IN NEW YORK, NY': 1.2532447421328596,\n",
        " '401A MONROE STREET IN NEW YORK, NY': 3.770707060835853,\n",
        " '408 JAY STREET IN NEW YORK, NY': 2.021960222228982,\n",
        " '409 ST. MARKS AVENAUE IN NEW YORK, NY': 3.5644442122691657,\n",
        " '41 SPRING ST IN NEW YORK, NY': 0.1870659296823146,\n",
        " '41 WHITE STREET IN NEW YORK, NY': 0.34596793506407,\n",
        " '42-24 ORCHARD STREET IN NEW YORK, NY': 3.6688849471021694,\n",
        " '43 EAST 1ST STREET IN NEW YORK, NY': 0.4990231089517349,\n",
        " '43 EAST FIRST STREET IN NEW YORK, NY': 0.4990231089517349,\n",
        " '430 EAST 6TH STREET IN NEW YORK, NY': 0.7873217509653545,\n",
        " '439A MONROE STREET IN NEW YORK, NY': 3.830481053432328,\n",
        " '442 ST. MARKS PL IN NEW YORK, NY': 6.984409236110081,\n",
        " '45 PIKE STREET IN NEW YORK, NY': 0.6852743048895127,\n",
        " '45 RUTGERS STREET IN NEW YORK, NY': 0.6899392925945564,\n",
        " '45 WARREN ST IN NEW YORK, NY': 0.6877610936911496,\n",
        " '45 WHITE STREET IN NEW YORK, NY': 0.3290383037163681,\n",
        " '45-55 PIKE STREET IN NEW YORK, NY': 0.4917495869172181,\n",
        " '458 WEST BROADWAY IN NEW YORK, NY': 0.4444492562945809,\n",
        " '46-50 RIVINGTON STREET IN NEW YORK, NY': 0.3264053058301342,\n",
        " '480 EAST 2ST STREET IN NEW YORK, NY': 5.666538719976661,\n",
        " '49-01 VAN DAM STREET IN NEW YORK, NY': 3.603454694135406,\n",
        " '5-15 WATTS STREET IN NEW YORK, NY': 0.6838122412495007,\n",
        " '50 BAYARD STREET IN NEW YORK, NY': 0.317148738708149,\n",
        " '50 NORFOLK STREET IN NEW YORK, NY': 0.6013236848198932,\n",
        " '50 SOUTH STREET IN NEW YORK, NY': 1.2109056444017292,\n",
        " '501 1/2 EAST 83RD STREET IN NEW YORK, NY': 4.555579094722114,\n",
        " '51 HARRISON STREET IN NEW YORK, NY': 0.6780291085633037,\n",
        " '515 ST. MARKS IN NEW YORK, NY': 3.730153729905005,\n",
        " '532 EAST 6TH STREET IN NEW YORK, NY': 0.8839077883877263,\n",
        " '536 MONROE STREET IN NEW YORK, NY': 3.980973741441874,\n",
        " '539_A MONROE ST IN NEW YORK, NY': 4.002694357136496,\n",
        " '54 RUTGERS STREET IN NEW YORK, NY': 0.7227644531991956,\n",
        " '540 EAST 2ND STREET IN NEW YORK, NY': 5.778979597914921,\n",
        " '55 RUTGERS STREET IN NEW YORK, NY': 0.7304945469047049,\n",
        " '551 WARREN STREET IN NEW YORK, NY': 2.7589972700826233,\n",
        " '553 EAST 2ND STREET IN NEW YORK, NY': 5.804092427615386,\n",
        " '555 MONROE STREET IN NEW YORK, NY': 4.032979747312549,\n",
        " '557 HUDSON STREET IN NEW YORK, NY': 1.1339937887616771,\n",
        " '56 READE STREET IN NEW YORK, NY': 0.551939384141665,\n",
        " '570 EAST 2ND STREET IN NEW YORK, NY': 5.825815907656462,\n",
        " '572 WARREN STREET IN NEW YORK, NY': 2.7984917694647904,\n",
        " '574 WARREN STREET IN NEW YORK, NY': 2.7999209814650654,\n",
        " '578 ESSEX ST IN NEW YORK, NY': 7.0909315858393684,\n",
        " '58 EAST 1ST STREET IN NEW YORK, NY': 0.5460253407651652,\n",
        " '585 MONROE STREET IN NEW YORK, NY': 4.080917175637942,\n",
        " '591 ESSEX ST IN NEW YORK, NY': 7.130344946667569,\n",
        " '6 BENSON ST IN NEW YORK, NY': 0.35190017316013106,\n",
        " '60 BEACH ST IN NEW YORK, NY': 0.565156500388871,\n",
        " '600 WASHINGTON STREET IN NEW YORK, NY': 0.9349382776228171,\n",
        " '606 CLINTON STREET IN NEW YORK, NY': 3.132388597501527,\n",
        " '61 CLINTON STREET IN NEW YORK, NY': 0.6929963076666295,\n",
        " '626 CLINTON STREET IN NEW YORK, NY': 3.1858504748133267,\n",
        " '63 AVENUE A IN NEW YORK, NY': 0.7727598476288098,\n",
        " '634 HUDSON STREET IN NEW YORK, NY': 1.3166612832318971,\n",
        " '64-66 ESSEX ST IN NEW YORK, NY': 0.5341781996784528,\n",
        " '65-75 PIKE STREET IN NEW YORK, NY': 0.4917495869172181,\n",
        " '66 CROSBY STREET IN NEW YORK, NY': 0.1540799933941892,\n",
        " '66 ORCHARD STREET IN NEW YORK, NY': 0.462530543257216,\n",
        " '67 WARREN ST IN NEW YORK, NY': 0.7075076435150631,\n",
        " '68 JAY STREET IN NEW YORK, NY': 0.6392159793796555,\n",
        " '68 WEST 3RD STREET IN NEW YORK, NY': 0.6309855351705279,\n",
        " '680 MONROE STREET IN NEW YORK, NY': 4.241014582503752,\n",
        " '69 CLINTON ST IN NEW YORK, NY': 0.6931996039306506,\n",
        " '7 ST. JAMES PLACE IN NEW YORK, NY': 0.6323175990784339,\n",
        " '721 EAST 6TH STREET IN NEW YORK, NY': 1.0803794824451993,\n",
        " '724 EAST 6TH STREET IN NEW YORK, NY': 1.064529799928983,\n",
        " '74 FRANKLIN STREET IN NEW YORK, NY': 0.3568981104768097,\n",
        " '74 WARREN STREET IN NEW YORK, NY': 0.7088114084825585,\n",
        " '75 THOMPSON ST IN NEW YORK, NY': 0.4017547567222399,\n",
        " '76 ESSEX STREET IN NEW YORK, NY': 0.5369919475644804,\n",
        " '79 CLINTON STREET IN NEW YORK, NY': 0.6900410610384864,\n",
        " '79 RIVINGTON STREET IN NEW YORK, NY': 0.46198376948942627,\n",
        " '8 CENTRE MARKET PLACE IN NEW YORK, NY': 0.04427682107029958,\n",
        " '80 NORTH MOORE STREET IN NEW YORK, NY': 0.6303714005081609,\n",
        " '802 PARK PLACE IN NEW YORK, NY': 4.075154092280519,\n",
        " '807 E 6TH ST IN NEW YORK, NY': 1.146136740079263,\n",
        " '807 E. 6TH ST. IN NEW YORK, NY': 1.146136740079263,\n",
        " '807 EAST 6TH STREET IN NEW YORK, NY': 1.146136740079263,\n",
        " '809 E. 6TH ST. IN NEW YORK, NY': 1.146874346811524,\n",
        " '809 E. 6TH STREET IN NEW YORK, NY': 1.146874346811524,\n",
        " '809 EAST 6TH STREET IN NEW YORK, NY': 1.146874346811524,\n",
        " '809 PARK PLACE IN NEW YORK, NY': 4.057613210991632,\n",
        " '81 JERSEY ST IN NEW YORK, NY': 0.3114504010068471,\n",
        " '82 RUTGERS SLIP IN NEW YORK, NY': 0.7726857665404194,\n",
        " '82 RUTGERS STREET IN NEW YORK, NY': 0.7399912080366756,\n",
        " '83 BLEECKER STREET IN NEW YORK, NY': 0.47036141824521666,\n",
        " '85 BEACH ST IN NEW YORK, NY': 0.6038903491159444,\n",
        " '850 MONROE STREET IN NEW YORK, NY': 4.560655277107273,\n",
        " '87 THOMPSON ST IN NEW YORK, NY': 0.40710710795745936,\n",
        " '88 BAXTER STREET IN NEW YORK, NY': 0.24438119240655515,\n",
        " '88 LEONARD STREET IN NEW YORK, NY': 0.3948742290811093,\n",
        " '887 PARK PLACE IN NEW YORK, NY': 4.148187226435936,\n",
        " '890 EAST 6TH STREET IN NEW YORK, NY': 1.173879246474864,\n",
        " '9 DOYERS ST IN NEW YORK, NY': 0.40008075929009046,\n",
        " '90 CHAMBERS STREET IN NEW YORK, NY': 0.6202618345035243,\n",
        " '90 ST. MARKS PLACE IN NEW YORK, NY': 0.857361491228811,\n",
        " '90 WASHINGTON STREET IN NEW YORK, NY': 1.2050318821788057,\n",
        " '903 E 6TH ST IN NEW YORK, NY': 1.1967583538450022,\n",
        " '903 E. 6TH ST. IN NEW YORK, NY': 1.1967583538450022,\n",
        " '919 PARK PLACE IN NEW YORK, NY': 4.207072621915765,\n",
        " '920 EAST 6TH STREET IN NEW YORK, NY': 1.1977032574929647,\n",
        " '94 E FIRST STREET IN NEW YORK, NY': 0.5792190274804986,\n",
        " '94 EAST 1ST STREET IN NEW YORK, NY': 0.5792190274804986,\n",
        " '94-96 AVENUE A IN NEW YORK, NY': 0.7239394644321415,\n",
        " '95 BOWERY IN NEW YORK, NY': 0.26120959313509756,\n",
        " '95 DELANCEY ST IN NEW YORK, NY': 0.479666468537199}"
       ]
      }
     ],
     "prompt_number": 885
    },
    {
     "cell_type": "code",
     "collapsed": false,
     "input": [
      "# Create final dictionary of distances from HQ based on list of unique addresses\n",
      "final_address_d = dict()\n",
      "\n",
      "for addr in final_addresses:    \n",
      "    if final_address_d.get(addr) is None:\n",
      "        time.sleep(0.5)\n",
      "        try:\n",
      "            p,lat_lng = g_bing.geocode(addr)    \n",
      "            dist = get_distance_from_target(lat_lng, sum_lat_lng)\n",
      "            final_address_d[addr] = dist            \n",
      "        except:\n",
      "            # Checked erroneous addresses- OK\n",
      "            print \"Oops. Can't geolocate \" + addr"
     ],
     "language": "python",
     "metadata": {},
     "outputs": [
      {
       "output_type": "stream",
       "stream": "stdout",
       "text": [
        "Oops. Can't geolocate 40-12 WARREN STREET IN NEW YORK, NY\n",
        "Oops. Can't geolocate 788 PARK PLACE IN NEW YORK, NY"
       ]
      },
      {
       "output_type": "stream",
       "stream": "stdout",
       "text": [
        "\n",
        "Oops. Can't geolocate 237 ELDRIDGE STREET IN NEW YORK, NY"
       ]
      },
      {
       "output_type": "stream",
       "stream": "stdout",
       "text": [
        "\n"
       ]
      }
     ],
     "prompt_number": 833
    },
    {
     "cell_type": "code",
     "collapsed": false,
     "input": [
      "names_top_streets['complete_address'] = names_top_streets['resp-strt-no'] + ' ' + names_top_streets['resp-strt'] + ' IN NEW YORK, NY'"
     ],
     "language": "python",
     "metadata": {},
     "outputs": [],
     "prompt_number": 889
    },
    {
     "cell_type": "code",
     "collapsed": false,
     "input": [
      "# Save distance results\n",
      "\n",
      "writer = csv.writer(open('dict_candidates.csv', 'wb'))\n",
      "for key, value in final_address_d.items():\n",
      "   writer.writerow([key, value])"
     ],
     "language": "python",
     "metadata": {},
     "outputs": [],
     "prompt_number": 838
    },
    {
     "cell_type": "code",
     "collapsed": false,
     "input": [
      "# Look up distances for each unique address\n",
      "\n",
      "def lookup_distance(row):\n",
      "    ''' basic function for grabbing the distance associated with unique address'''\n",
      "    try: \n",
      "        dist = final_address_d[row[5]]\n",
      "    except:\n",
      "        dist = None\n",
      "    return dist\n",
      "\n",
      "names_top_streets['distance'] = names_top_streets.apply(lookup_distance, axis = 1)"
     ],
     "language": "python",
     "metadata": {},
     "outputs": [],
     "prompt_number": 890
    },
    {
     "cell_type": "code",
     "collapsed": false,
     "input": [
      "# These are the 10 entities closest to HQ\n",
      "names_top_streets.sort(columns=['distance'])[0:11]"
     ],
     "language": "python",
     "metadata": {},
     "outputs": [
      {
       "html": [
        "<div style=\"max-height:1000px;max-width:1500px;overflow:auto;\">\n",
        "<table border=\"1\" class=\"dataframe\">\n",
        "  <thead>\n",
        "    <tr style=\"text-align: right;\">\n",
        "      <th></th>\n",
        "      <th>resp-lsn</th>\n",
        "      <th>resp-ftn</th>\n",
        "      <th>resp-mi</th>\n",
        "      <th>resp-strt-no</th>\n",
        "      <th>resp-strt</th>\n",
        "      <th>complete_address</th>\n",
        "      <th>distance</th>\n",
        "    </tr>\n",
        "  </thead>\n",
        "  <tbody>\n",
        "    <tr>\n",
        "      <th>292</th>\n",
        "      <td>                GRAND</td>\n",
        "      <td>        LINDSAY</td>\n",
        "      <td> </td>\n",
        "      <td>   8</td>\n",
        "      <td> CENTRE MARKET PLACE</td>\n",
        "      <td> 8 CENTRE MARKET PLACE IN NEW YORK, NY</td>\n",
        "      <td> 0.044277</td>\n",
        "    </tr>\n",
        "    <tr>\n",
        "      <th>24 </th>\n",
        "      <td>                  DOE</td>\n",
        "      <td>      JOHN/JANE</td>\n",
        "      <td> </td>\n",
        "      <td> 151</td>\n",
        "      <td>         MOTT STREET</td>\n",
        "      <td>       151 MOTT STREET IN NEW YORK, NY</td>\n",
        "      <td> 0.114959</td>\n",
        "    </tr>\n",
        "    <tr>\n",
        "      <th>340</th>\n",
        "      <td>             TYRNAUER</td>\n",
        "      <td>        MATTHEW</td>\n",
        "      <td> </td>\n",
        "      <td> 205</td>\n",
        "      <td>     MULBERRY STREET</td>\n",
        "      <td>   205 MULBERRY STREET IN NEW YORK, NY</td>\n",
        "      <td> 0.141126</td>\n",
        "    </tr>\n",
        "    <tr>\n",
        "      <th>153</th>\n",
        "      <td>                  DOE</td>\n",
        "      <td>           JOHN</td>\n",
        "      <td> </td>\n",
        "      <td> 362</td>\n",
        "      <td>       BROOME STREET</td>\n",
        "      <td>     362 BROOME STREET IN NEW YORK, NY</td>\n",
        "      <td> 0.144547</td>\n",
        "    </tr>\n",
        "    <tr>\n",
        "      <th>150</th>\n",
        "      <td>                 REED</td>\n",
        "      <td>      CHARLOTTE</td>\n",
        "      <td> </td>\n",
        "      <td> 362</td>\n",
        "      <td>       BROOME STREET</td>\n",
        "      <td>     362 BROOME STREET IN NEW YORK, NY</td>\n",
        "      <td> 0.144547</td>\n",
        "    </tr>\n",
        "    <tr>\n",
        "      <th>367</th>\n",
        "      <td>       SKREPICK/KEITH</td>\n",
        "      <td>    RON/MICHAEL</td>\n",
        "      <td> </td>\n",
        "      <td>  66</td>\n",
        "      <td>       CROSBY STREET</td>\n",
        "      <td>      66 CROSBY STREET IN NEW YORK, NY</td>\n",
        "      <td> 0.154080</td>\n",
        "    </tr>\n",
        "    <tr>\n",
        "      <th>132</th>\n",
        "      <td>                  DOE</td>\n",
        "      <td>      JOHN/JANE</td>\n",
        "      <td> </td>\n",
        "      <td> 120</td>\n",
        "      <td>    ELIZABETH STREET</td>\n",
        "      <td>  120 ELIZABETH STREET IN NEW YORK, NY</td>\n",
        "      <td> 0.172066</td>\n",
        "    </tr>\n",
        "    <tr>\n",
        "      <th>136</th>\n",
        "      <td>                COLON</td>\n",
        "      <td>       GREGORIA</td>\n",
        "      <td> </td>\n",
        "      <td> 120</td>\n",
        "      <td>    ELIZABETH STREET</td>\n",
        "      <td>  120 ELIZABETH STREET IN NEW YORK, NY</td>\n",
        "      <td> 0.172066</td>\n",
        "    </tr>\n",
        "    <tr>\n",
        "      <th>360</th>\n",
        "      <td> DAVID;NORMAN INVESTO</td>\n",
        "      <td>         RS;INC</td>\n",
        "      <td> </td>\n",
        "      <td>  41</td>\n",
        "      <td>           SPRING ST</td>\n",
        "      <td>          41 SPRING ST IN NEW YORK, NY</td>\n",
        "      <td> 0.187066</td>\n",
        "    </tr>\n",
        "    <tr>\n",
        "      <th>344</th>\n",
        "      <td>               LOW/HA</td>\n",
        "      <td> POH HA/LOW POH</td>\n",
        "      <td> </td>\n",
        "      <td>  88</td>\n",
        "      <td>       BAXTER STREET</td>\n",
        "      <td>      88 BAXTER STREET IN NEW YORK, NY</td>\n",
        "      <td> 0.244381</td>\n",
        "    </tr>\n",
        "    <tr>\n",
        "      <th>349</th>\n",
        "      <td>  CONTEST PROMOTIONS-</td>\n",
        "      <td>         NY LLC</td>\n",
        "      <td> </td>\n",
        "      <td>  95</td>\n",
        "      <td>              BOWERY</td>\n",
        "      <td>             95 BOWERY IN NEW YORK, NY</td>\n",
        "      <td> 0.261210</td>\n",
        "    </tr>\n",
        "  </tbody>\n",
        "</table>\n",
        "<p>11 rows \u00d7 7 columns</p>\n",
        "</div>"
       ],
       "metadata": {},
       "output_type": "pyout",
       "prompt_number": 899,
       "text": [
        "                 resp-lsn        resp-ftn resp-mi resp-strt-no  \\\n",
        "292                 GRAND         LINDSAY                    8   \n",
        "24                    DOE       JOHN/JANE                  151   \n",
        "340              TYRNAUER         MATTHEW                  205   \n",
        "153                   DOE            JOHN                  362   \n",
        "150                  REED       CHARLOTTE                  362   \n",
        "367        SKREPICK/KEITH     RON/MICHAEL                   66   \n",
        "132                   DOE       JOHN/JANE                  120   \n",
        "136                 COLON        GREGORIA                  120   \n",
        "360  DAVID;NORMAN INVESTO          RS;INC                   41   \n",
        "344                LOW/HA  POH HA/LOW POH                   88   \n",
        "349   CONTEST PROMOTIONS-          NY LLC                   95   \n",
        "\n",
        "               resp-strt                       complete_address  distance  \n",
        "292  CENTRE MARKET PLACE  8 CENTRE MARKET PLACE IN NEW YORK, NY  0.044277  \n",
        "24           MOTT STREET        151 MOTT STREET IN NEW YORK, NY  0.114959  \n",
        "340      MULBERRY STREET    205 MULBERRY STREET IN NEW YORK, NY  0.141126  \n",
        "153        BROOME STREET      362 BROOME STREET IN NEW YORK, NY  0.144547  \n",
        "150        BROOME STREET      362 BROOME STREET IN NEW YORK, NY  0.144547  \n",
        "367        CROSBY STREET       66 CROSBY STREET IN NEW YORK, NY  0.154080  \n",
        "132     ELIZABETH STREET   120 ELIZABETH STREET IN NEW YORK, NY  0.172066  \n",
        "136     ELIZABETH STREET   120 ELIZABETH STREET IN NEW YORK, NY  0.172066  \n",
        "360            SPRING ST           41 SPRING ST IN NEW YORK, NY  0.187066  \n",
        "344        BAXTER STREET       88 BAXTER STREET IN NEW YORK, NY  0.244381  \n",
        "349               BOWERY              95 BOWERY IN NEW YORK, NY  0.261210  \n",
        "\n",
        "[11 rows x 7 columns]"
       ]
      }
     ],
     "prompt_number": 899
    },
    {
     "cell_type": "code",
     "collapsed": false,
     "input": [
      "# These are the 10 unique names closest to HQ\n",
      "temp = names_top_streets.sort(columns=['distance'])\n",
      "temp.drop_duplicates(cols=['resp-lsn','resp-ftn','resp-mi'])[0:11]"
     ],
     "language": "python",
     "metadata": {},
     "outputs": [
      {
       "html": [
        "<div style=\"max-height:1000px;max-width:1500px;overflow:auto;\">\n",
        "<table border=\"1\" class=\"dataframe\">\n",
        "  <thead>\n",
        "    <tr style=\"text-align: right;\">\n",
        "      <th></th>\n",
        "      <th>resp-lsn</th>\n",
        "      <th>resp-ftn</th>\n",
        "      <th>resp-mi</th>\n",
        "      <th>resp-strt-no</th>\n",
        "      <th>resp-strt</th>\n",
        "      <th>complete_address</th>\n",
        "      <th>distance</th>\n",
        "    </tr>\n",
        "  </thead>\n",
        "  <tbody>\n",
        "    <tr>\n",
        "      <th>292</th>\n",
        "      <td>                GRAND</td>\n",
        "      <td>        LINDSAY</td>\n",
        "      <td> </td>\n",
        "      <td>   8</td>\n",
        "      <td> CENTRE MARKET PLACE</td>\n",
        "      <td> 8 CENTRE MARKET PLACE IN NEW YORK, NY</td>\n",
        "      <td> 0.044277</td>\n",
        "    </tr>\n",
        "    <tr>\n",
        "      <th>24 </th>\n",
        "      <td>                  DOE</td>\n",
        "      <td>      JOHN/JANE</td>\n",
        "      <td> </td>\n",
        "      <td> 151</td>\n",
        "      <td>         MOTT STREET</td>\n",
        "      <td>       151 MOTT STREET IN NEW YORK, NY</td>\n",
        "      <td> 0.114959</td>\n",
        "    </tr>\n",
        "    <tr>\n",
        "      <th>340</th>\n",
        "      <td>             TYRNAUER</td>\n",
        "      <td>        MATTHEW</td>\n",
        "      <td> </td>\n",
        "      <td> 205</td>\n",
        "      <td>     MULBERRY STREET</td>\n",
        "      <td>   205 MULBERRY STREET IN NEW YORK, NY</td>\n",
        "      <td> 0.141126</td>\n",
        "    </tr>\n",
        "    <tr>\n",
        "      <th>153</th>\n",
        "      <td>                  DOE</td>\n",
        "      <td>           JOHN</td>\n",
        "      <td> </td>\n",
        "      <td> 362</td>\n",
        "      <td>       BROOME STREET</td>\n",
        "      <td>     362 BROOME STREET IN NEW YORK, NY</td>\n",
        "      <td> 0.144547</td>\n",
        "    </tr>\n",
        "    <tr>\n",
        "      <th>150</th>\n",
        "      <td>                 REED</td>\n",
        "      <td>      CHARLOTTE</td>\n",
        "      <td> </td>\n",
        "      <td> 362</td>\n",
        "      <td>       BROOME STREET</td>\n",
        "      <td>     362 BROOME STREET IN NEW YORK, NY</td>\n",
        "      <td> 0.144547</td>\n",
        "    </tr>\n",
        "    <tr>\n",
        "      <th>367</th>\n",
        "      <td>       SKREPICK/KEITH</td>\n",
        "      <td>    RON/MICHAEL</td>\n",
        "      <td> </td>\n",
        "      <td>  66</td>\n",
        "      <td>       CROSBY STREET</td>\n",
        "      <td>      66 CROSBY STREET IN NEW YORK, NY</td>\n",
        "      <td> 0.154080</td>\n",
        "    </tr>\n",
        "    <tr>\n",
        "      <th>136</th>\n",
        "      <td>                COLON</td>\n",
        "      <td>       GREGORIA</td>\n",
        "      <td> </td>\n",
        "      <td> 120</td>\n",
        "      <td>    ELIZABETH STREET</td>\n",
        "      <td>  120 ELIZABETH STREET IN NEW YORK, NY</td>\n",
        "      <td> 0.172066</td>\n",
        "    </tr>\n",
        "    <tr>\n",
        "      <th>360</th>\n",
        "      <td> DAVID;NORMAN INVESTO</td>\n",
        "      <td>         RS;INC</td>\n",
        "      <td> </td>\n",
        "      <td>  41</td>\n",
        "      <td>           SPRING ST</td>\n",
        "      <td>          41 SPRING ST IN NEW YORK, NY</td>\n",
        "      <td> 0.187066</td>\n",
        "    </tr>\n",
        "    <tr>\n",
        "      <th>344</th>\n",
        "      <td>               LOW/HA</td>\n",
        "      <td> POH HA/LOW POH</td>\n",
        "      <td> </td>\n",
        "      <td>  88</td>\n",
        "      <td>       BAXTER STREET</td>\n",
        "      <td>      88 BAXTER STREET IN NEW YORK, NY</td>\n",
        "      <td> 0.244381</td>\n",
        "    </tr>\n",
        "    <tr>\n",
        "      <th>349</th>\n",
        "      <td>  CONTEST PROMOTIONS-</td>\n",
        "      <td>         NY LLC</td>\n",
        "      <td> </td>\n",
        "      <td>  95</td>\n",
        "      <td>              BOWERY</td>\n",
        "      <td>             95 BOWERY IN NEW YORK, NY</td>\n",
        "      <td> 0.261210</td>\n",
        "    </tr>\n",
        "    <tr>\n",
        "      <th>241</th>\n",
        "      <td>          BUTTERWORTH</td>\n",
        "      <td>        WILLIAM</td>\n",
        "      <td> </td>\n",
        "      <td> 163</td>\n",
        "      <td>     CHRYSTIE STREET</td>\n",
        "      <td>   163 CHRYSTIE STREET IN NEW YORK, NY</td>\n",
        "      <td> 0.285228</td>\n",
        "    </tr>\n",
        "  </tbody>\n",
        "</table>\n",
        "<p>11 rows \u00d7 7 columns</p>\n",
        "</div>"
       ],
       "metadata": {},
       "output_type": "pyout",
       "prompt_number": 903,
       "text": [
        "                 resp-lsn        resp-ftn resp-mi resp-strt-no  \\\n",
        "292                 GRAND         LINDSAY                    8   \n",
        "24                    DOE       JOHN/JANE                  151   \n",
        "340              TYRNAUER         MATTHEW                  205   \n",
        "153                   DOE            JOHN                  362   \n",
        "150                  REED       CHARLOTTE                  362   \n",
        "367        SKREPICK/KEITH     RON/MICHAEL                   66   \n",
        "136                 COLON        GREGORIA                  120   \n",
        "360  DAVID;NORMAN INVESTO          RS;INC                   41   \n",
        "344                LOW/HA  POH HA/LOW POH                   88   \n",
        "349   CONTEST PROMOTIONS-          NY LLC                   95   \n",
        "241           BUTTERWORTH         WILLIAM                  163   \n",
        "\n",
        "               resp-strt                       complete_address  distance  \n",
        "292  CENTRE MARKET PLACE  8 CENTRE MARKET PLACE IN NEW YORK, NY  0.044277  \n",
        "24           MOTT STREET        151 MOTT STREET IN NEW YORK, NY  0.114959  \n",
        "340      MULBERRY STREET    205 MULBERRY STREET IN NEW YORK, NY  0.141126  \n",
        "153        BROOME STREET      362 BROOME STREET IN NEW YORK, NY  0.144547  \n",
        "150        BROOME STREET      362 BROOME STREET IN NEW YORK, NY  0.144547  \n",
        "367        CROSBY STREET       66 CROSBY STREET IN NEW YORK, NY  0.154080  \n",
        "136     ELIZABETH STREET   120 ELIZABETH STREET IN NEW YORK, NY  0.172066  \n",
        "360            SPRING ST           41 SPRING ST IN NEW YORK, NY  0.187066  \n",
        "344        BAXTER STREET       88 BAXTER STREET IN NEW YORK, NY  0.244381  \n",
        "349               BOWERY              95 BOWERY IN NEW YORK, NY  0.261210  \n",
        "241      CHRYSTIE STREET    163 CHRYSTIE STREET IN NEW YORK, NY  0.285228  \n",
        "\n",
        "[11 rows x 7 columns]"
       ]
      }
     ],
     "prompt_number": 903
    },
    {
     "cell_type": "code",
     "collapsed": false,
     "input": [
      "# final solution: top 10 closest INDIVIDUALS \n",
      "names_top_streets.sort(columns=['distance'])[0:11]"
     ],
     "language": "python",
     "metadata": {},
     "outputs": [
      {
       "html": [
        "<div style=\"max-height:1000px;max-width:1500px;overflow:auto;\">\n",
        "<table border=\"1\" class=\"dataframe\">\n",
        "  <thead>\n",
        "    <tr style=\"text-align: right;\">\n",
        "      <th></th>\n",
        "      <th>resp-lsn</th>\n",
        "      <th>resp-ftn</th>\n",
        "      <th>resp-mi</th>\n",
        "      <th>resp-strt-no</th>\n",
        "      <th>resp-strt</th>\n",
        "      <th>complete_address</th>\n",
        "      <th>distance</th>\n",
        "    </tr>\n",
        "  </thead>\n",
        "  <tbody>\n",
        "    <tr>\n",
        "      <th>292</th>\n",
        "      <td>                GRAND</td>\n",
        "      <td>        LINDSAY</td>\n",
        "      <td> </td>\n",
        "      <td>   8</td>\n",
        "      <td> CENTRE MARKET PLACE</td>\n",
        "      <td> 8 CENTRE MARKET PLACE IN NEW YORK, NY</td>\n",
        "      <td> 0.044277</td>\n",
        "    </tr>\n",
        "    <tr>\n",
        "      <th>24 </th>\n",
        "      <td>                  DOE</td>\n",
        "      <td>      JOHN/JANE</td>\n",
        "      <td> </td>\n",
        "      <td> 151</td>\n",
        "      <td>         MOTT STREET</td>\n",
        "      <td>       151 MOTT STREET IN NEW YORK, NY</td>\n",
        "      <td> 0.114959</td>\n",
        "    </tr>\n",
        "    <tr>\n",
        "      <th>340</th>\n",
        "      <td>             TYRNAUER</td>\n",
        "      <td>        MATTHEW</td>\n",
        "      <td> </td>\n",
        "      <td> 205</td>\n",
        "      <td>     MULBERRY STREET</td>\n",
        "      <td>   205 MULBERRY STREET IN NEW YORK, NY</td>\n",
        "      <td> 0.141126</td>\n",
        "    </tr>\n",
        "    <tr>\n",
        "      <th>153</th>\n",
        "      <td>                  DOE</td>\n",
        "      <td>           JOHN</td>\n",
        "      <td> </td>\n",
        "      <td> 362</td>\n",
        "      <td>       BROOME STREET</td>\n",
        "      <td>     362 BROOME STREET IN NEW YORK, NY</td>\n",
        "      <td> 0.144547</td>\n",
        "    </tr>\n",
        "    <tr>\n",
        "      <th>150</th>\n",
        "      <td>                 REED</td>\n",
        "      <td>      CHARLOTTE</td>\n",
        "      <td> </td>\n",
        "      <td> 362</td>\n",
        "      <td>       BROOME STREET</td>\n",
        "      <td>     362 BROOME STREET IN NEW YORK, NY</td>\n",
        "      <td> 0.144547</td>\n",
        "    </tr>\n",
        "    <tr>\n",
        "      <th>367</th>\n",
        "      <td>       SKREPICK/KEITH</td>\n",
        "      <td>    RON/MICHAEL</td>\n",
        "      <td> </td>\n",
        "      <td>  66</td>\n",
        "      <td>       CROSBY STREET</td>\n",
        "      <td>      66 CROSBY STREET IN NEW YORK, NY</td>\n",
        "      <td> 0.154080</td>\n",
        "    </tr>\n",
        "    <tr>\n",
        "      <th>132</th>\n",
        "      <td>                  DOE</td>\n",
        "      <td>      JOHN/JANE</td>\n",
        "      <td> </td>\n",
        "      <td> 120</td>\n",
        "      <td>    ELIZABETH STREET</td>\n",
        "      <td>  120 ELIZABETH STREET IN NEW YORK, NY</td>\n",
        "      <td> 0.172066</td>\n",
        "    </tr>\n",
        "    <tr>\n",
        "      <th>136</th>\n",
        "      <td>                COLON</td>\n",
        "      <td>       GREGORIA</td>\n",
        "      <td> </td>\n",
        "      <td> 120</td>\n",
        "      <td>    ELIZABETH STREET</td>\n",
        "      <td>  120 ELIZABETH STREET IN NEW YORK, NY</td>\n",
        "      <td> 0.172066</td>\n",
        "    </tr>\n",
        "    <tr>\n",
        "      <th>360</th>\n",
        "      <td> DAVID;NORMAN INVESTO</td>\n",
        "      <td>         RS;INC</td>\n",
        "      <td> </td>\n",
        "      <td>  41</td>\n",
        "      <td>           SPRING ST</td>\n",
        "      <td>          41 SPRING ST IN NEW YORK, NY</td>\n",
        "      <td> 0.187066</td>\n",
        "    </tr>\n",
        "    <tr>\n",
        "      <th>344</th>\n",
        "      <td>               LOW/HA</td>\n",
        "      <td> POH HA/LOW POH</td>\n",
        "      <td> </td>\n",
        "      <td>  88</td>\n",
        "      <td>       BAXTER STREET</td>\n",
        "      <td>      88 BAXTER STREET IN NEW YORK, NY</td>\n",
        "      <td> 0.244381</td>\n",
        "    </tr>\n",
        "    <tr>\n",
        "      <th>349</th>\n",
        "      <td>  CONTEST PROMOTIONS-</td>\n",
        "      <td>         NY LLC</td>\n",
        "      <td> </td>\n",
        "      <td>  95</td>\n",
        "      <td>              BOWERY</td>\n",
        "      <td>             95 BOWERY IN NEW YORK, NY</td>\n",
        "      <td> 0.261210</td>\n",
        "    </tr>\n",
        "  </tbody>\n",
        "</table>\n",
        "<p>11 rows \u00d7 7 columns</p>\n",
        "</div>"
       ],
       "metadata": {},
       "output_type": "pyout",
       "prompt_number": 904,
       "text": [
        "                 resp-lsn        resp-ftn resp-mi resp-strt-no  \\\n",
        "292                 GRAND         LINDSAY                    8   \n",
        "24                    DOE       JOHN/JANE                  151   \n",
        "340              TYRNAUER         MATTHEW                  205   \n",
        "153                   DOE            JOHN                  362   \n",
        "150                  REED       CHARLOTTE                  362   \n",
        "367        SKREPICK/KEITH     RON/MICHAEL                   66   \n",
        "132                   DOE       JOHN/JANE                  120   \n",
        "136                 COLON        GREGORIA                  120   \n",
        "360  DAVID;NORMAN INVESTO          RS;INC                   41   \n",
        "344                LOW/HA  POH HA/LOW POH                   88   \n",
        "349   CONTEST PROMOTIONS-          NY LLC                   95   \n",
        "\n",
        "               resp-strt                       complete_address  distance  \n",
        "292  CENTRE MARKET PLACE  8 CENTRE MARKET PLACE IN NEW YORK, NY  0.044277  \n",
        "24           MOTT STREET        151 MOTT STREET IN NEW YORK, NY  0.114959  \n",
        "340      MULBERRY STREET    205 MULBERRY STREET IN NEW YORK, NY  0.141126  \n",
        "153        BROOME STREET      362 BROOME STREET IN NEW YORK, NY  0.144547  \n",
        "150        BROOME STREET      362 BROOME STREET IN NEW YORK, NY  0.144547  \n",
        "367        CROSBY STREET       66 CROSBY STREET IN NEW YORK, NY  0.154080  \n",
        "132     ELIZABETH STREET   120 ELIZABETH STREET IN NEW YORK, NY  0.172066  \n",
        "136     ELIZABETH STREET   120 ELIZABETH STREET IN NEW YORK, NY  0.172066  \n",
        "360            SPRING ST           41 SPRING ST IN NEW YORK, NY  0.187066  \n",
        "344        BAXTER STREET       88 BAXTER STREET IN NEW YORK, NY  0.244381  \n",
        "349               BOWERY              95 BOWERY IN NEW YORK, NY  0.261210  \n",
        "\n",
        "[11 rows x 7 columns]"
       ]
      }
     ],
     "prompt_number": 904
    },
    {
     "cell_type": "heading",
     "level": 4,
     "metadata": {},
     "source": [
      "Final answer:"
     ]
    },
    {
     "cell_type": "raw",
     "metadata": {},
     "source": [
      "Top 10 INDIVIDUALS whose names are in the TEST SET are:  **note: more than one individual can live at the same address/apartment\n",
      "1) Lindsay Grand (0.044 miles away)\n",
      "2) John Doe (0.115 miles away)\n",
      "3) Jane Doe (also 0.115 miles away)\n",
      "4) Matthew Tyrnauer (0.141 miles away)\n",
      "5) John Doe (0.144 miles away)\n",
      "6) Charlotte Reed (also 0.144 miles away)\n",
      "7) Ron Skrepick (0.154 miles away)\n",
      "8) Michael Keith (also 0.154 miles away)\n",
      "9) John Doe (0.172 miles away)\n",
      "10) Jane Doe (also 0.172 miles away)\n",
      "**11 (3-way tie) Gregoria Colon (also 0.172 miles away)"
     ]
    }
   ],
   "metadata": {}
  }
 ]
}