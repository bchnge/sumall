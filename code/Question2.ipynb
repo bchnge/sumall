{
 "metadata": {
  "name": ""
 },
 "nbformat": 3,
 "nbformat_minor": 0,
 "worksheets": [
  {
   "cells": [
    {
     "cell_type": "code",
     "collapsed": false,
     "input": [
      "fname = '../data/tweets.json'"
     ],
     "language": "python",
     "metadata": {},
     "outputs": [],
     "prompt_number": 1
    },
    {
     "cell_type": "code",
     "collapsed": false,
     "input": [
      "import pandas as pd\n",
      "import re\n",
      "import json"
     ],
     "language": "python",
     "metadata": {},
     "outputs": [],
     "prompt_number": 2
    },
    {
     "cell_type": "code",
     "collapsed": false,
     "input": [
      "dates = []\n",
      "hour = []\n",
      "minute = []\n",
      "second = []\n",
      "second = []\n",
      "year = []\n",
      "month = []\n",
      "day = []\n",
      "weekday = []\n",
      "md = []\n",
      "\n",
      "dict_months = {'jan':1, 'feb':2, 'mar':3, 'apr':4, 'may':5, 'jun':6, 'jul':7, 'aug':8, 'sep':9, 'oct':10, 'nov':11, 'dec':12}\n",
      "dict_week = {'sun':1, 'mon':2, 'tue':3, 'wed':4, 'thu':5, 'fri':6, 'sat':7}\n",
      "\n",
      "with open(fname) as f:\n",
      "    for line in f:\n",
      "        item = json.loads(line)['created_at']\n",
      "        dates.append(item)\n",
      "        time = re.search(r'\\d\\d:\\d\\d:\\d\\d',item,re.UNICODE).group(0)\n",
      "        hour.append(int(time[0:2]))\n",
      "        minute.append(int(time[3:5]))\n",
      "        second.append(int(time[6:8]))\n",
      "        year.append(int(item[len(item)-4:len(item)]))\n",
      "        month.append(dict_months[item[4:7].lower()])\n",
      "        day.append(int(item[8:10]))\n",
      "        weekday.append(item[0:3])\n",
      "        md.append(str(dict_months[item[4:7].lower()]) + '-' + str(item[8:10]))"
     ],
     "language": "python",
     "metadata": {},
     "outputs": [],
     "prompt_number": 3
    },
    {
     "cell_type": "code",
     "collapsed": false,
     "input": [
      "df = pd.DataFrame.from_items([('time',time),\n",
      "                              ('hour',hour),\n",
      "                              ('minute',minute),\n",
      "                              ('second', second),\n",
      "                              ('year', year),\n",
      "                              ('month', month),\n",
      "                              ('day', day),\n",
      "                              ('weekday',weekday),\n",
      "                              ('md',md)]) "
     ],
     "language": "python",
     "metadata": {},
     "outputs": [],
     "prompt_number": 4
    },
    {
     "cell_type": "code",
     "collapsed": false,
     "input": [
      "df.to_csv('../q2_data.csv')"
     ],
     "language": "python",
     "metadata": {},
     "outputs": [],
     "prompt_number": 22
    }
   ],
   "metadata": {}
  }
 ]
}